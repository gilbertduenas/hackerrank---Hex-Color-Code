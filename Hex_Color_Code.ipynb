{
  "nbformat": 4,
  "nbformat_minor": 0,
  "metadata": {
    "colab": {
      "name": "Hex Color Code",
      "provenance": [],
      "authorship_tag": "ABX9TyPD6IbYzW2B+OvBSO6QESvs",
      "include_colab_link": true
    },
    "kernelspec": {
      "name": "python3",
      "display_name": "Python 3"
    }
  },
  "cells": [
    {
      "cell_type": "markdown",
      "metadata": {
        "id": "view-in-github",
        "colab_type": "text"
      },
      "source": [
        "<a href=\"https://colab.research.google.com/github/gilbertduenas/hackerrank---Hex-Color-Code/blob/master/Hex_Color_Code.ipynb\" target=\"_parent\"><img src=\"https://colab.research.google.com/assets/colab-badge.svg\" alt=\"Open In Colab\"/></a>"
      ]
    },
    {
      "cell_type": "code",
      "metadata": {
        "id": "LzoiulA9qlUF",
        "colab_type": "code",
        "colab": {}
      },
      "source": [
        "import re\n",
        "\n",
        "n = int(input())\n",
        "\n",
        "for i in range(n):\n",
        "  for color in re.findall('(?<=.)#{1}[0-9A-Fa-f]{3,6}', input()):\n",
        "    print(color)"
      ],
      "execution_count": null,
      "outputs": []
    }
  ]
}